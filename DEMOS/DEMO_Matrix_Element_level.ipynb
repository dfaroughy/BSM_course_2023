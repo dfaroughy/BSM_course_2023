{
 "cells": [
  {
   "cell_type": "markdown",
   "id": "fc3dff46",
   "metadata": {},
   "source": [
    "# Events: Matrix-Element \n"
   ]
  },
  {
   "cell_type": "markdown",
   "id": "a8b70e52",
   "metadata": {},
   "source": [
    "## 1. Software: `MadGraph`\n",
    "\n",
    "`Madgraph` is a framework that aims at providing all the elements necessary for SM and BSM phenomenology, such as the computations of cross sections, the generation of hard events and their matching with event generators, and the use of a variety of tools relevant to event manipulation and analysis. Processes can be simulated to (N)LO accuracy for any user-defined Lagrangian, with some limitations beyond tree-level accuracy. Matrix elements at the tree- and one-loop-level can also be obtained (source: https://cp3.irmp.ucl.ac.be/projects/madgraph/)\n"
   ]
  },
  {
   "cell_type": "markdown",
   "id": "64642ee5",
   "metadata": {},
   "source": [
    "## 2. The `MadGraph` Run card\n",
    "\n",
    "The `run_card.dat` file is the core of the MC simulation. It is where the user can control the kinematics in the scattering process of a particular run. The most relevant parameters fall into two categories: \n",
    "\n",
    "1. **Generation-level parameters**: these parameters control the scattering for the initial states, e.g. the energies of the beam, the choice of the PDF set, wether to collide protons or leptons, etc.\n",
    "\n",
    "2. **Parton-level cuts**: these parameters pretty much define the region of phase-space that you want your events to be sampled from. They correspond to various kinematic cuts on the final state particles. *Warning! These cuts are not to be confused with the cuts in an experimental search! Those come much later after events shower and final state objects are reconstructed.* Parton-level cuts, however, are important because they can enhance the statistics in a particular region of interest explored by a specific search."
   ]
  },
  {
   "cell_type": "markdown",
   "id": "7d567e6a",
   "metadata": {},
   "source": [
    "The overall structure of the run_card is the following (I removed some of the less common parameters for readability):\n",
    "\n",
    "\n",
    "    #*********************************************************************\n",
    "    #                       MadGraph5_aMC@NLO                            *\n",
    "    #                                                                    *\n",
    "    #                     run_card.dat MadEvent                          *\n",
    "    #                                                                    *\n",
    "    #  This file is used to set the parameters of the run.               *\n",
    "    #                                                                    *\n",
    "    #  mind the format:   value    = variable     ! comment              *\n",
    "    #*********************************************************************\n",
    "                                                              \n",
    "   \n",
    "        tag_1    = run_tag                   ! name of the run     \n",
    "        10000    = nevents                   ! Number of unweighted events requested \n",
    "        0        = iseed                     ! rnd seed (0=assigned automatically=default))\n",
    "\n",
    "        1        = lpp1                      ! beam 1 type                                          \n",
    "        1        = lpp2                      ! beam 2 type\n",
    "        6500.0   = ebeam1                    ! beam 1 total energy in GeV\n",
    "        6500.0   = ebeam2                    ! beam 2 total energy in GeV\n",
    "    \n",
    "        nn23lo1  = pdlabel                   ! PDF set                                     \n",
    "        230000   = lhaid                     ! if pdlabel=lhapdf, this is the lhapdf number\n",
    "\n",
    "        False    = fixed_ren_scale           ! if .true. use fixed ren scale\n",
    "        False    = fixed_fac_scale           ! if .true. use fixed fac scale\n",
    "        91.188   = scale                     ! fixed ren scale\n",
    "        91.188   = dsqrt_q2fact1             ! fixed fact scale for pdf1\n",
    "        91.188   = dsqrt_q2fact2             ! fixed fact scale for pdf2\n",
    "        -1       = dynamical_scale_choice    ! Choose one of the preselected dynamical choices\n",
    "        1.0      = scalefact                 ! scale factor for event-by-event scales\n",
    "\n",
    "\n",
    "    #*******************************                                                 \n",
    "    # Parton level cuts definition *\n",
    "    #*******************************                                     \n",
    "            \n",
    "        10.0  = ptl             ! minimum pt for the charged leptons \n",
    "       -1.0   = ptlmax          ! maximum pt for the charged leptons\n",
    "        {}    = pt_min_pdg      ! pt cut for other particles (use pdg code). Applied on particle and anti-particle\n",
    "        {}\t  = pt_max_pdg      ! pt cut for other particles (syntax e.g. {6: 100, 25: 50}) \n",
    "    \n",
    "        2.5   = etal            ! max rap for the charged leptons \n",
    "        0.0   = etalmin         ! main rap for the charged leptons\n",
    "        {}    = eta_min_pdg     ! rap cut for other particles (use pdg code). Applied on particle and anti-particle\n",
    "        {}    = eta_max_pdg     ! rap cut for other particles (syntax e.g. {6: 2.5, 23: 5})\n",
    " \n",
    "        0.4  = drll             ! min distance between leptons \n",
    "       -1.0  = drllmax          ! max distance between leptons\n",
    "\n",
    "        0.0  = mmll             ! min invariant mass of l+l- (same flavour) lepton pair\n",
    "       -1.0  = mmllmax          ! max invariant mass of l+l- (same flavour) lepton pair\n",
    "        {}   = mxx_min_pdg      ! min invariant mass of a pair of particles X/X~ (e.g. {6:250})\n",
    "\n",
    "        0.0  = mmnl             ! min invariant mass for all letpons (l+- and vl) \n",
    "       -1.0  = mmnlmax          ! max invariant mass for all letpons (l+- and vl) \n",
    "\n",
    "        0.0  = ptllmin          ! Minimum pt for 4-momenta sum of leptons(l and vl)\n",
    "       -1.0  = ptllmax          ! Maximum pt for 4-momenta sum of leptons(l and vl)\n",
    "\n",
    "        0.0  = xptl             ! minimum pt for at least one charged lepton \n",
    "\n",
    "        0.0  = ptl1min          ! minimum pt for the leading lepton in pt\n",
    "        0.0  = ptl2min          ! minimum pt for the second lepton in pt\n",
    "       -1.0  = ptl1max          ! maximum pt for the leading lepton in pt \n",
    "       -1.0  = ptl2max          ! maximum pt for the second lepton in pt\n",
    "\n",
    "    #*********************************************************************\n",
    "    # maximal pdg code for quark to be considered as a light jet         *\n",
    "    # (otherwise b cuts are applied)                                     *\n",
    "    #*********************************************************************\n",
    "\n",
    "        4 = maxjetflavor    ! Maximum jet pdg code \n",
    "   "
   ]
  },
  {
   "cell_type": "markdown",
   "id": "036dce3d",
   "metadata": {},
   "source": [
    "## 3. Parton-level events: The `LHE` file\n",
    "\n",
    "Madgraph generates parton-level events. These are stored in the *Les Houches Event* (LHE) format in a file with (default) name: \n",
    "\n",
    "    unweighted_events.lhe\n",
    "\n",
    "It can be found in the `Events/run_01` folder. The data file consists of generated events (the number specified by `nevents`). A single event is composed of the kinematics features and other characteristic of the scattering states, e.g. the two initial partons, the final undecayed states and also the intermediate states that decayed:\n"
   ]
  },
  {
   "cell_type": "markdown",
   "id": "2c83d528",
   "metadata": {},
   "source": [
    "    <event>\n",
    "    4     1 +8.3911000e+02 8.93683800e+01 7.54677100e-03 1.30438800e-01\n",
    "          2  -1    0    0  501    0  +0.0000000000e+00  +0.0000000000e+00  +7.4318030872e+01  7.4318030872e+01  0.0000000000e+00  0.0000e+00 -1.0000e+00       \n",
    "         -2  -1    0    0    0  501  -0.0000000000e+00  -0.0000000000e+00  -2.6866655940e+01  2.6866655940e+01  0.0000000000e+00  0.0000e+00  1.0000e+00       \n",
    "        -13   1    1    2    0    0  -6.9396665975e+00  +2.7744220552e+01  -1.5147179771e+01  3.2362598807e+01  0.0000000000e+00  0.0000e+00  1.0000e+00       \n",
    "         13   1    1    2    0    0  +6.9396665975e+00  -2.7744220552e+01  +6.2598554703e+01  6.8822088005e+01  0.0000000000e+00  0.0000e+00 -1.0000e+00       \n",
    "    <mgrwt>\n",
    "    <rscale>  0 0.89368383E+02</rscale>\n",
    "    <asrwt>0</asrwt>\n",
    "    <pdfrwt beam=\"1\">  1        2 0.11433543E-01 0.89368383E+02</pdfrwt>\n",
    "    <pdfrwt beam=\"2\">  1       -2 0.41333317E-02 0.89368383E+02</pdfrwt>\n",
    "    <totfact> 0.11893024E+05</totfact>\n",
    "    </mgrwt>\n",
    "    </event>\n",
    "\n",
    "- In this case you can see the Drell-Yan scattering $d\\bar d\\to \\mu^+\\mu^-$. Here's a breakdown of the columns for each particle in an LHE event:\n",
    "\n",
    "    - 1: `PDG ID`, this indicates the particle type. For example, `-13` denotes a anti-muon $\\mu^+ $, and `13` denotes a muon ($\\mu^-$).\n",
    "    - 2: `status`, this refers to the particle's status (initial state `-1`, intermediate state, final state `1`).\n",
    "    - 3-4: `mother1` and `mother2`, indices for the particle's mother particles.\n",
    "    - 5-6: `color flow`, describes the flow of color charge (relevant for QCD processes).\n",
    "    - 7-10: `px, py, pz, E`, 4-momentum components of the particle\n",
    "    - 11: `m`, particle's mass (all massless in the example above).\n",
    "    - 12: nothing. \n",
    "    - 13: `spin`, particle's spin/helicity information.\n",
    "\n",
    "\n"
   ]
  },
  {
   "attachments": {
    "image.png": {
     "image/png": "[encoded data removed]"
    }
   },
   "cell_type": "markdown",
   "id": "df141df2",
   "metadata": {},
   "source": [
    "![image.png](attachment:image.png)"
   ]
  },
  {
   "cell_type": "markdown",
   "id": "d56848d0",
   "metadata": {},
   "source": [
    "## 4. Example: SM Drell-Yan production $pp\\to \\mu^+\\mu^-$"
   ]
  },
  {
   "cell_type": "markdown",
   "id": "eae2059f",
   "metadata": {},
   "source": [
    "Since LHE files are human-readable, we can parse through them with a simple python code that reads the events line-by-line.\n",
    "You can import the method `get_LHE_events` to get the list of events in the LHE file. Only the final states information are stored.\n"
   ]
  },
  {
   "cell_type": "code",
   "execution_count": null,
   "id": "ced75764",
   "metadata": {},
   "outputs": [],
   "source": [
    "\n",
    "from BSMhighPT2023.utils import get_LHE_events\n",
    "\n",
    "lhe_file = '../RUNS/PROC_dimuon_SM/Events/run_01/unweighted_events.lhe'\n",
    "\n",
    "#...look at the first 10 events\n",
    "\n",
    "events =  get_LHE_events(path=lhe_file)\n",
    "\n",
    "for states in events:\n",
    "    \n",
    "    #...process event here:\n",
    "\n",
    "    print(states)\n",
    "\n",
    "    pass\n",
    "        "
   ]
  },
  {
   "cell_type": "markdown",
   "id": "8207af98",
   "metadata": {},
   "source": []
  },
  {
   "cell_type": "markdown",
   "id": "9200444e",
   "metadata": {},
   "source": [
    "### Kinematics "
   ]
  },
  {
   "cell_type": "markdown",
   "id": "51ec3ace",
   "metadata": {},
   "source": [
    "Compute the $p_T$ distribution of one of the muons and plot the histogram:"
   ]
  },
  {
   "cell_type": "code",
   "execution_count": null,
   "id": "9fb151d5",
   "metadata": {},
   "outputs": [],
   "source": [
    "import numpy as np\n",
    "\n",
    "pt_mu = []\n",
    "\n",
    "for states in events:\n",
    "    \n",
    "    #...process event here:\n",
    "\n",
    "    mu = states[0] # leading muon\n",
    "    pt = np.sqrt( mu[0]**2 + mu[1]**2)\n",
    "    pt_mu.append(pt)\n",
    "\n",
    "    pass\n"
   ]
  },
  {
   "cell_type": "code",
   "execution_count": null,
   "id": "c344e8a4",
   "metadata": {},
   "outputs": [],
   "source": [
    "import matplotlib.pyplot as plt\n",
    "\n",
    "#...pt of muon\n",
    "\n",
    "fig, ax = plt.subplots(1,1, figsize=(3,3))\n",
    "ax.hist(pt_mu, bins=np.arange(20,75, 2), histtype='step', color='k', density=True)\n",
    "ax.set_xlabel(r'leading muon $p_T$ [GeV]')\n",
    "ax.set_ylabel('density')\n",
    "ax.set_xlim(20,100)\n",
    "plt.show()"
   ]
  },
  {
   "cell_type": "markdown",
   "id": "e7d82477",
   "metadata": {},
   "source": [
    "# Task 1\n",
    "\n",
    "Compute and get histograms for the following distributions:\n",
    "- the dimuon invariant mass distribution $m_{\\mu\\mu}$.\n",
    "- the pseudorapidity differnce of the dimuons $\\Delta{\\eta}=\\eta_{\\mu_1}-\\eta_{\\mu_2}$.\n",
    "- the azimuthal angle differnce of the dimuons $\\Delta{\\phi}=\\phi_{\\mu_1}-\\phi_{\\mu_2}$.\n",
    "- the plane distance between muons $\\Delta R=\\sqrt{\\Delta\\eta^2 +\\Delta\\phi^2}$\n"
   ]
  },
  {
   "cell_type": "code",
   "execution_count": null,
   "id": "b22f2915",
   "metadata": {},
   "outputs": [],
   "source": []
  }
 ],
 "metadata": {
  "kernelspec": {
   "display_name": "Python 3 (ipykernel)",
   "language": "python",
   "name": "python3"
  }
 },
 "nbformat": 4,
 "nbformat_minor": 5
}
